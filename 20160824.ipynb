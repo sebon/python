{
 "cells": [
  {
   "cell_type": "code",
   "execution_count": 36,
   "metadata": {
    "collapsed": false
   },
   "outputs": [
    {
     "name": "stdout",
     "output_type": "stream",
     "text": [
      "None\n",
      "{'y': 5, 'x': 5}\n"
     ]
    },
    {
     "ename": "KeyError",
     "evalue": "'_oh'",
     "output_type": "error",
     "traceback": [
      "\u001b[0;31m---------------------------------------------------------------------------\u001b[0m",
      "\u001b[0;31mKeyError\u001b[0m                                  Traceback (most recent call last)",
      "\u001b[0;32m<ipython-input-36-83e9a9a388ae>\u001b[0m in \u001b[0;36m<module>\u001b[0;34m()\u001b[0m\n\u001b[1;32m     10\u001b[0m     \u001b[0;32mreturn\u001b[0m \u001b[0mx\u001b[0m\u001b[0;34m+\u001b[0m\u001b[0my\u001b[0m\u001b[0;34m\u001b[0m\u001b[0m\n\u001b[1;32m     11\u001b[0m \u001b[0mprint\u001b[0m \u001b[0;34m(\u001b[0m\u001b[0mf\u001b[0m\u001b[0;34m(\u001b[0m\u001b[0;36m5\u001b[0m\u001b[0;34m,\u001b[0m\u001b[0;36m5\u001b[0m\u001b[0;34m)\u001b[0m\u001b[0;34m)\u001b[0m\u001b[0;34m\u001b[0m\u001b[0m\n\u001b[0;32m---> 12\u001b[0;31m \u001b[0madd\u001b[0m\u001b[0;34m(\u001b[0m\u001b[0;36m5\u001b[0m\u001b[0;34m)\u001b[0m\u001b[0;34m\u001b[0m\u001b[0m\n\u001b[0m",
      "\u001b[0;32m/usr/lib/python3.4/site-packages/IPython/core/displayhook.py\u001b[0m in \u001b[0;36m__call__\u001b[0;34m(self, result)\u001b[0m\n\u001b[1;32m    245\u001b[0m             \u001b[0mself\u001b[0m\u001b[0;34m.\u001b[0m\u001b[0mwrite_output_prompt\u001b[0m\u001b[0;34m(\u001b[0m\u001b[0;34m)\u001b[0m\u001b[0;34m\u001b[0m\u001b[0m\n\u001b[1;32m    246\u001b[0m             \u001b[0mformat_dict\u001b[0m\u001b[0;34m,\u001b[0m \u001b[0mmd_dict\u001b[0m \u001b[0;34m=\u001b[0m \u001b[0mself\u001b[0m\u001b[0;34m.\u001b[0m\u001b[0mcompute_format_data\u001b[0m\u001b[0;34m(\u001b[0m\u001b[0mresult\u001b[0m\u001b[0;34m)\u001b[0m\u001b[0;34m\u001b[0m\u001b[0m\n\u001b[0;32m--> 247\u001b[0;31m             \u001b[0mself\u001b[0m\u001b[0;34m.\u001b[0m\u001b[0mupdate_user_ns\u001b[0m\u001b[0;34m(\u001b[0m\u001b[0mresult\u001b[0m\u001b[0;34m)\u001b[0m\u001b[0;34m\u001b[0m\u001b[0m\n\u001b[0m\u001b[1;32m    248\u001b[0m             \u001b[0mself\u001b[0m\u001b[0;34m.\u001b[0m\u001b[0mfill_exec_result\u001b[0m\u001b[0;34m(\u001b[0m\u001b[0mresult\u001b[0m\u001b[0;34m)\u001b[0m\u001b[0;34m\u001b[0m\u001b[0m\n\u001b[1;32m    249\u001b[0m             \u001b[0;32mif\u001b[0m \u001b[0mformat_dict\u001b[0m\u001b[0;34m:\u001b[0m\u001b[0;34m\u001b[0m\u001b[0m\n",
      "\u001b[0;32m/usr/lib/python3.4/site-packages/IPython/core/displayhook.py\u001b[0m in \u001b[0;36mupdate_user_ns\u001b[0;34m(self, result)\u001b[0m\n\u001b[1;32m    193\u001b[0m \u001b[0;34m\u001b[0m\u001b[0m\n\u001b[1;32m    194\u001b[0m         \u001b[0;31m# Avoid recursive reference when displaying _oh/Out\u001b[0m\u001b[0;34m\u001b[0m\u001b[0;34m\u001b[0m\u001b[0m\n\u001b[0;32m--> 195\u001b[0;31m         \u001b[0;32mif\u001b[0m \u001b[0mresult\u001b[0m \u001b[0;32mis\u001b[0m \u001b[0;32mnot\u001b[0m \u001b[0mself\u001b[0m\u001b[0;34m.\u001b[0m\u001b[0mshell\u001b[0m\u001b[0;34m.\u001b[0m\u001b[0muser_ns\u001b[0m\u001b[0;34m[\u001b[0m\u001b[0;34m'_oh'\u001b[0m\u001b[0;34m]\u001b[0m\u001b[0;34m:\u001b[0m\u001b[0;34m\u001b[0m\u001b[0m\n\u001b[0m\u001b[1;32m    196\u001b[0m             \u001b[0;32mif\u001b[0m \u001b[0mlen\u001b[0m\u001b[0;34m(\u001b[0m\u001b[0mself\u001b[0m\u001b[0;34m.\u001b[0m\u001b[0mshell\u001b[0m\u001b[0;34m.\u001b[0m\u001b[0muser_ns\u001b[0m\u001b[0;34m[\u001b[0m\u001b[0;34m'_oh'\u001b[0m\u001b[0;34m]\u001b[0m\u001b[0;34m)\u001b[0m \u001b[0;34m>=\u001b[0m \u001b[0mself\u001b[0m\u001b[0;34m.\u001b[0m\u001b[0mcache_size\u001b[0m \u001b[0;32mand\u001b[0m \u001b[0mself\u001b[0m\u001b[0;34m.\u001b[0m\u001b[0mdo_full_cache\u001b[0m\u001b[0;34m:\u001b[0m\u001b[0;34m\u001b[0m\u001b[0m\n\u001b[1;32m    197\u001b[0m                 \u001b[0mself\u001b[0m\u001b[0;34m.\u001b[0m\u001b[0mcull_cache\u001b[0m\u001b[0;34m(\u001b[0m\u001b[0;34m)\u001b[0m\u001b[0;34m\u001b[0m\u001b[0m\n",
      "\u001b[0;31mKeyError\u001b[0m: '_oh'"
     ]
    }
   ],
   "source": [
    "import dis\n",
    "\n",
    "import inspect\n",
    "\n",
    "def f(x,y, *arg, **kargs):# *args는 는 가변 tuple 인자 # **kargs 는 가변 dict 인자 \n",
    "    return\n",
    "\n",
    "def add(x , y=5):\n",
    "    print(locals())\n",
    "    return x+y\n",
    "print (f(5,5))\n",
    "add(5)"
   ]
  },
  {
   "cell_type": "code",
   "execution_count": 18,
   "metadata": {
    "collapsed": false
   },
   "outputs": [
    {
     "name": "stdout",
     "output_type": "stream",
     "text": [
      "  9           0 LOAD_FAST                0 (x)\n",
      "              3 LOAD_FAST                1 (y)\n",
      "              6 BINARY_ADD\n",
      "              7 RETURN_VALUE\n",
      "['__annotations__', '__call__', '__class__', '__closure__', '__code__', '__defaults__', '__delattr__', '__dict__', '__dir__', '__doc__', '__eq__', '__format__', '__ge__', '__get__', '__getattribute__', '__globals__', '__gt__', '__hash__', '__init__', '__kwdefaults__', '__le__', '__lt__', '__module__', '__name__', '__ne__', '__new__', '__qualname__', '__reduce__', '__reduce_ex__', '__repr__', '__setattr__', '__sizeof__', '__str__', '__subclasshook__', 'add']\n",
      "{'add': <function add at 0x7f32ec0e7ae8>}\n",
      "None\n",
      "dict = \n",
      "{'add': <function add at 0x7f32ec0e7ae8>}\n",
      "None\n"
     ]
    },
    {
     "data": {
      "text/plain": [
       "10"
      ]
     },
     "execution_count": 18,
     "metadata": {},
     "output_type": "execute_result"
    }
   ],
   "source": [
    "\n",
    "dis.dis(add)\n",
    "inspect.getsource(add)\n",
    "print(dir(add))\n",
    "print (add.__dict__)\n",
    "print (add.__doc__)\n",
    "# dir 은 속성과 메서드\n",
    "add.add  = add\n",
    "print ('dict = ')\n",
    "print (add.__dict__)\n",
    "print (add.__doc__)\n",
    "add.add(5,5)"
   ]
  },
  {
   "cell_type": "code",
   "execution_count": 22,
   "metadata": {
    "collapsed": false
   },
   "outputs": [
    {
     "name": "stdout",
     "output_type": "stream",
     "text": [
      "0\n"
     ]
    },
    {
     "data": {
      "text/plain": [
       "['__abs__',\n",
       " '__add__',\n",
       " '__and__',\n",
       " '__bool__',\n",
       " '__ceil__',\n",
       " '__class__',\n",
       " '__delattr__',\n",
       " '__dir__',\n",
       " '__divmod__',\n",
       " '__doc__',\n",
       " '__eq__',\n",
       " '__float__',\n",
       " '__floor__',\n",
       " '__floordiv__',\n",
       " '__format__',\n",
       " '__ge__',\n",
       " '__getattribute__',\n",
       " '__getnewargs__',\n",
       " '__gt__',\n",
       " '__hash__',\n",
       " '__index__',\n",
       " '__init__',\n",
       " '__int__',\n",
       " '__invert__',\n",
       " '__le__',\n",
       " '__lshift__',\n",
       " '__lt__',\n",
       " '__mod__',\n",
       " '__mul__',\n",
       " '__ne__',\n",
       " '__neg__',\n",
       " '__new__',\n",
       " '__or__',\n",
       " '__pos__',\n",
       " '__pow__',\n",
       " '__radd__',\n",
       " '__rand__',\n",
       " '__rdivmod__',\n",
       " '__reduce__',\n",
       " '__reduce_ex__',\n",
       " '__repr__',\n",
       " '__rfloordiv__',\n",
       " '__rlshift__',\n",
       " '__rmod__',\n",
       " '__rmul__',\n",
       " '__ror__',\n",
       " '__round__',\n",
       " '__rpow__',\n",
       " '__rrshift__',\n",
       " '__rshift__',\n",
       " '__rsub__',\n",
       " '__rtruediv__',\n",
       " '__rxor__',\n",
       " '__setattr__',\n",
       " '__sizeof__',\n",
       " '__str__',\n",
       " '__sub__',\n",
       " '__subclasshook__',\n",
       " '__truediv__',\n",
       " '__trunc__',\n",
       " '__xor__',\n",
       " 'bit_length',\n",
       " 'conjugate',\n",
       " 'denominator',\n",
       " 'from_bytes',\n",
       " 'imag',\n",
       " 'numerator',\n",
       " 'real',\n",
       " 'to_bytes']"
      ]
     },
     "execution_count": 22,
     "metadata": {},
     "output_type": "execute_result"
    }
   ],
   "source": [
    "i = int()\n",
    "print(i)\n",
    "#inspect.getsource(int)\n",
    "dir(int)"
   ]
  },
  {
   "cell_type": "code",
   "execution_count": 26,
   "metadata": {
    "collapsed": false
   },
   "outputs": [
    {
     "name": "stdout",
     "output_type": "stream",
     "text": [
      "139856907257480\n",
      "139857042929792\n",
      "<class 'type'>\n",
      "<class 'str'>\n",
      "<class 'int'>\n"
     ]
    }
   ],
   "source": [
    "b = '1'\n",
    "a = int(b)\n",
    "\n",
    "print(id(b))\n",
    "print(id(a))\n",
    "print (type(int))\n",
    "print(type(b))\n",
    "print(type(a))"
   ]
  },
  {
   "cell_type": "code",
   "execution_count": 30,
   "metadata": {
    "collapsed": false
   },
   "outputs": [
    {
     "name": "stdout",
     "output_type": "stream",
     "text": [
      "<class 'tuple'>\n",
      "<class 'tuple'>\n",
      "Help on function add in module __main__:\n",
      "\n",
      "add(x, y=5)\n",
      "\n"
     ]
    }
   ],
   "source": [
    "v = ()\n",
    "v1  = (1,)\n",
    "print (type(v))\n",
    "print (type(v1))\n",
    "help(add)"
   ]
  },
  {
   "cell_type": "code",
   "execution_count": 37,
   "metadata": {
    "collapsed": false
   },
   "outputs": [
    {
     "name": "stdout",
     "output_type": "stream",
     "text": [
      "Once deleted, variables cannot be recovered. Proceed (y/[n])? \n",
      "Nothing done.\n",
      "{'__builtins__': {'round': <built-in function round>, 'oct': <built-in function oct>, '__debug__': True, 'sorted': <built-in function sorted>, '__build_class__': <built-in function __build_class__>, 'chr': <built-in function chr>, 'ConnectionRefusedError': <class 'ConnectionRefusedError'>, 'bytearray': <class 'bytearray'>, 'OverflowError': <class 'OverflowError'>, 'Exception': <class 'Exception'>, 'setattr': <built-in function setattr>, 'license': See https://www.python.org/psf/license/, 'dreload': <function _dreload at 0x7f32ec9f5e18>, 'None': None, 'UnicodeTranslateError': <class 'UnicodeTranslateError'>, '__name__': 'builtins', 'list': <class 'list'>, 'repr': <built-in function repr>, 'dir': <built-in function dir>, '__IPYTHON__': True, 'exec': <built-in function exec>, 'zip': <class 'zip'>, 'MemoryError': <class 'MemoryError'>, 'ImportError': <class 'ImportError'>, 'frozenset': <class 'frozenset'>, 'UnicodeError': <class 'UnicodeError'>, 'ChildProcessError': <class 'ChildProcessError'>, 'iter': <built-in function iter>, 'super': <class 'super'>, 'ArithmeticError': <class 'ArithmeticError'>, 'max': <built-in function max>, 'BaseException': <class 'BaseException'>, 'tuple': <class 'tuple'>, 'UserWarning': <class 'UserWarning'>, 'property': <class 'property'>, 'staticmethod': <class 'staticmethod'>, 'FloatingPointError': <class 'FloatingPointError'>, 'memoryview': <class 'memoryview'>, 'IOError': <class 'OSError'>, 'AttributeError': <class 'AttributeError'>, 'filter': <class 'filter'>, 'ValueError': <class 'ValueError'>, '__spec__': ModuleSpec(name='builtins', loader=<class '_frozen_importlib.BuiltinImporter'>), 'ascii': <built-in function ascii>, 'id': <built-in function id>, 'TimeoutError': <class 'TimeoutError'>, 'EOFError': <class 'EOFError'>, 'credits':     Thanks to CWI, CNRI, BeOpen.com, Zope Corporation and a cast of thousands\n",
      "    for supporting Python development.  See www.python.org for more information., 'StopIteration': <class 'StopIteration'>, 'True': True, 'range': <class 'range'>, 'hash': <built-in function hash>, 'IndexError': <class 'IndexError'>, 'slice': <class 'slice'>, 'UnicodeEncodeError': <class 'UnicodeEncodeError'>, 'delattr': <built-in function delattr>, 'SyntaxWarning': <class 'SyntaxWarning'>, 'dict': <class 'dict'>, 'len': <built-in function len>, 'BrokenPipeError': <class 'BrokenPipeError'>, 'float': <class 'float'>, 'object': <class 'object'>, 'format': <built-in function format>, 'input': <bound method IPythonKernel.raw_input of <ipykernel.ipkernel.IPythonKernel object at 0x7f32efa7a748>>, 'IndentationError': <class 'IndentationError'>, 'globals': <built-in function globals>, 'divmod': <built-in function divmod>, 'GeneratorExit': <class 'GeneratorExit'>, 'LookupError': <class 'LookupError'>, 'SyntaxError': <class 'SyntaxError'>, 'classmethod': <class 'classmethod'>, 'UnicodeWarning': <class 'UnicodeWarning'>, 'min': <built-in function min>, 'set': <class 'set'>, '__package__': '', '__import__': <built-in function __import__>, 'False': False, 'enumerate': <class 'enumerate'>, 'bool': <class 'bool'>, 'NotImplementedError': <class 'NotImplementedError'>, 'ProcessLookupError': <class 'ProcessLookupError'>, 'RuntimeError': <class 'RuntimeError'>, 'open': <built-in function open>, 'all': <built-in function all>, 'NotADirectoryError': <class 'NotADirectoryError'>, 'bytes': <class 'bytes'>, 'SystemError': <class 'SystemError'>, 'KeyError': <class 'KeyError'>, 'print': <built-in function print>, 'int': <class 'int'>, 'locals': <built-in function locals>, 'pow': <built-in function pow>, 'DeprecationWarning': <class 'DeprecationWarning'>, 'IsADirectoryError': <class 'IsADirectoryError'>, 'ZeroDivisionError': <class 'ZeroDivisionError'>, 'any': <built-in function any>, 'hex': <built-in function hex>, 'complex': <class 'complex'>, 'OSError': <class 'OSError'>, '__loader__': <class '_frozen_importlib.BuiltinImporter'>, 'copyright': Copyright (c) 2001-2015 Python Software Foundation.\n",
      "All Rights Reserved.\n",
      "\n",
      "Copyright (c) 2000 BeOpen.com.\n",
      "All Rights Reserved.\n",
      "\n",
      "Copyright (c) 1995-2001 Corporation for National Research Initiatives.\n",
      "All Rights Reserved.\n",
      "\n",
      "Copyright (c) 1991-1995 Stichting Mathematisch Centrum, Amsterdam.\n",
      "All Rights Reserved., 'NotImplemented': NotImplemented, 'compile': <built-in function compile>, 'BlockingIOError': <class 'BlockingIOError'>, 'hasattr': <built-in function hasattr>, 'ConnectionError': <class 'ConnectionError'>, 'KeyboardInterrupt': <class 'KeyboardInterrupt'>, 'ReferenceError': <class 'ReferenceError'>, 'ord': <built-in function ord>, 'sum': <built-in function sum>, 'reversed': <class 'reversed'>, 'Ellipsis': Ellipsis, 'AssertionError': <class 'AssertionError'>, '__doc__': \"Built-in functions, exceptions, and other objects.\\n\\nNoteworthy: None is the `nil' object; Ellipsis represents `...' in slices.\", 'BytesWarning': <class 'BytesWarning'>, 'Warning': <class 'Warning'>, 'str': <class 'str'>, 'FileExistsError': <class 'FileExistsError'>, 'get_ipython': <bound method ZMQInteractiveShell.get_ipython of <ipykernel.zmqshell.ZMQInteractiveShell object at 0x7f32efa7afd0>>, 'BufferError': <class 'BufferError'>, 'FileNotFoundError': <class 'FileNotFoundError'>, 'PendingDeprecationWarning': <class 'PendingDeprecationWarning'>, 'RuntimeWarning': <class 'RuntimeWarning'>, 'InterruptedError': <class 'InterruptedError'>, 'vars': <built-in function vars>, 'ConnectionResetError': <class 'ConnectionResetError'>, 'issubclass': <built-in function issubclass>, 'type': <class 'type'>, 'PermissionError': <class 'PermissionError'>, 'map': <class 'map'>, 'isinstance': <built-in function isinstance>, 'TypeError': <class 'TypeError'>, 'UnboundLocalError': <class 'UnboundLocalError'>, 'FutureWarning': <class 'FutureWarning'>, 'ConnectionAbortedError': <class 'ConnectionAbortedError'>, 'help': Type help() for interactive help, or help(object) for help about object., 'UnicodeDecodeError': <class 'UnicodeDecodeError'>, 'bin': <built-in function bin>, 'getattr': <built-in function getattr>, 'SystemExit': <class 'SystemExit'>, 'next': <built-in function next>, 'abs': <built-in function abs>, 'callable': <built-in function callable>, 'NameError': <class 'NameError'>, 'EnvironmentError': <class 'OSError'>, 'ResourceWarning': <class 'ResourceWarning'>, 'eval': <built-in function eval>, 'ImportWarning': <class 'ImportWarning'>, 'TabError': <class 'TabError'>}}\n",
      "{'__builtins__': {'round': <built-in function round>, 'oct': <built-in function oct>, '__debug__': True, 'sorted': <built-in function sorted>, '__build_class__': <built-in function __build_class__>, 'chr': <built-in function chr>, 'ConnectionRefusedError': <class 'ConnectionRefusedError'>, 'bytearray': <class 'bytearray'>, 'OverflowError': <class 'OverflowError'>, 'Exception': <class 'Exception'>, 'setattr': <built-in function setattr>, 'license': See https://www.python.org/psf/license/, 'dreload': <function _dreload at 0x7f32ec9f5e18>, 'None': None, 'UnicodeTranslateError': <class 'UnicodeTranslateError'>, '__name__': 'builtins', 'list': <class 'list'>, 'repr': <built-in function repr>, 'dir': <built-in function dir>, '__IPYTHON__': True, 'exec': <built-in function exec>, 'zip': <class 'zip'>, 'MemoryError': <class 'MemoryError'>, 'ImportError': <class 'ImportError'>, 'frozenset': <class 'frozenset'>, 'UnicodeError': <class 'UnicodeError'>, 'ChildProcessError': <class 'ChildProcessError'>, 'iter': <built-in function iter>, 'super': <class 'super'>, 'ArithmeticError': <class 'ArithmeticError'>, 'max': <built-in function max>, 'BaseException': <class 'BaseException'>, 'tuple': <class 'tuple'>, 'UserWarning': <class 'UserWarning'>, 'property': <class 'property'>, 'staticmethod': <class 'staticmethod'>, 'FloatingPointError': <class 'FloatingPointError'>, 'memoryview': <class 'memoryview'>, 'IOError': <class 'OSError'>, 'AttributeError': <class 'AttributeError'>, 'filter': <class 'filter'>, 'ValueError': <class 'ValueError'>, '__spec__': ModuleSpec(name='builtins', loader=<class '_frozen_importlib.BuiltinImporter'>), 'ascii': <built-in function ascii>, 'id': <built-in function id>, 'TimeoutError': <class 'TimeoutError'>, 'EOFError': <class 'EOFError'>, 'credits':     Thanks to CWI, CNRI, BeOpen.com, Zope Corporation and a cast of thousands\n",
      "    for supporting Python development.  See www.python.org for more information., 'StopIteration': <class 'StopIteration'>, 'True': True, 'range': <class 'range'>, 'hash': <built-in function hash>, 'IndexError': <class 'IndexError'>, 'slice': <class 'slice'>, 'UnicodeEncodeError': <class 'UnicodeEncodeError'>, 'delattr': <built-in function delattr>, 'SyntaxWarning': <class 'SyntaxWarning'>, 'dict': <class 'dict'>, 'len': <built-in function len>, 'BrokenPipeError': <class 'BrokenPipeError'>, 'float': <class 'float'>, 'object': <class 'object'>, 'format': <built-in function format>, 'input': <bound method IPythonKernel.raw_input of <ipykernel.ipkernel.IPythonKernel object at 0x7f32efa7a748>>, 'IndentationError': <class 'IndentationError'>, 'globals': <built-in function globals>, 'divmod': <built-in function divmod>, 'GeneratorExit': <class 'GeneratorExit'>, 'LookupError': <class 'LookupError'>, 'SyntaxError': <class 'SyntaxError'>, 'classmethod': <class 'classmethod'>, 'UnicodeWarning': <class 'UnicodeWarning'>, 'min': <built-in function min>, 'set': <class 'set'>, '__package__': '', '__import__': <built-in function __import__>, 'False': False, 'enumerate': <class 'enumerate'>, 'bool': <class 'bool'>, 'NotImplementedError': <class 'NotImplementedError'>, 'ProcessLookupError': <class 'ProcessLookupError'>, 'RuntimeError': <class 'RuntimeError'>, 'open': <built-in function open>, 'all': <built-in function all>, 'NotADirectoryError': <class 'NotADirectoryError'>, 'bytes': <class 'bytes'>, 'SystemError': <class 'SystemError'>, 'KeyError': <class 'KeyError'>, 'print': <built-in function print>, 'int': <class 'int'>, 'locals': <built-in function locals>, 'pow': <built-in function pow>, 'DeprecationWarning': <class 'DeprecationWarning'>, 'IsADirectoryError': <class 'IsADirectoryError'>, 'ZeroDivisionError': <class 'ZeroDivisionError'>, 'any': <built-in function any>, 'hex': <built-in function hex>, 'complex': <class 'complex'>, 'OSError': <class 'OSError'>, '__loader__': <class '_frozen_importlib.BuiltinImporter'>, 'copyright': Copyright (c) 2001-2015 Python Software Foundation.\n",
      "All Rights Reserved.\n",
      "\n",
      "Copyright (c) 2000 BeOpen.com.\n",
      "All Rights Reserved.\n",
      "\n",
      "Copyright (c) 1995-2001 Corporation for National Research Initiatives.\n",
      "All Rights Reserved.\n",
      "\n",
      "Copyright (c) 1991-1995 Stichting Mathematisch Centrum, Amsterdam.\n",
      "All Rights Reserved., 'NotImplemented': NotImplemented, 'compile': <built-in function compile>, 'BlockingIOError': <class 'BlockingIOError'>, 'hasattr': <built-in function hasattr>, 'ConnectionError': <class 'ConnectionError'>, 'KeyboardInterrupt': <class 'KeyboardInterrupt'>, 'ReferenceError': <class 'ReferenceError'>, 'ord': <built-in function ord>, 'sum': <built-in function sum>, 'reversed': <class 'reversed'>, 'Ellipsis': Ellipsis, 'AssertionError': <class 'AssertionError'>, '__doc__': \"Built-in functions, exceptions, and other objects.\\n\\nNoteworthy: None is the `nil' object; Ellipsis represents `...' in slices.\", 'BytesWarning': <class 'BytesWarning'>, 'Warning': <class 'Warning'>, 'str': <class 'str'>, 'FileExistsError': <class 'FileExistsError'>, 'get_ipython': <bound method ZMQInteractiveShell.get_ipython of <ipykernel.zmqshell.ZMQInteractiveShell object at 0x7f32efa7afd0>>, 'BufferError': <class 'BufferError'>, 'FileNotFoundError': <class 'FileNotFoundError'>, 'PendingDeprecationWarning': <class 'PendingDeprecationWarning'>, 'RuntimeWarning': <class 'RuntimeWarning'>, 'InterruptedError': <class 'InterruptedError'>, 'vars': <built-in function vars>, 'ConnectionResetError': <class 'ConnectionResetError'>, 'issubclass': <built-in function issubclass>, 'type': <class 'type'>, 'PermissionError': <class 'PermissionError'>, 'map': <class 'map'>, 'isinstance': <built-in function isinstance>, 'TypeError': <class 'TypeError'>, 'UnboundLocalError': <class 'UnboundLocalError'>, 'FutureWarning': <class 'FutureWarning'>, 'ConnectionAbortedError': <class 'ConnectionAbortedError'>, 'help': Type help() for interactive help, or help(object) for help about object., 'UnicodeDecodeError': <class 'UnicodeDecodeError'>, 'bin': <built-in function bin>, 'getattr': <built-in function getattr>, 'SystemExit': <class 'SystemExit'>, 'next': <built-in function next>, 'abs': <built-in function abs>, 'callable': <built-in function callable>, 'NameError': <class 'NameError'>, 'EnvironmentError': <class 'OSError'>, 'ResourceWarning': <class 'ResourceWarning'>, 'eval': <built-in function eval>, 'ImportWarning': <class 'ImportWarning'>, 'TabError': <class 'TabError'>}}\n"
     ]
    }
   ],
   "source": [
    "%reset\n",
    "globals().clear()\n",
    "print(globals())\n",
    "print(locals())"
   ]
  },
  {
   "cell_type": "raw",
   "metadata": {},
   "source": [
    "%reset\n",
    "globals().clear()\n",
    "print(globals())\n",
    "print(locals())"
   ]
  },
  {
   "cell_type": "markdown",
   "metadata": {},
   "source": [
    "d = {x:x for x in range(1,4)}\n",
    "print (d)"
   ]
  },
  {
   "cell_type": "code",
   "execution_count": 44,
   "metadata": {
    "collapsed": false
   },
   "outputs": [
    {
     "name": "stdout",
     "output_type": "stream",
     "text": [
      "{1: 1, 2: 2, 3: 3}\n",
      "<class 'set'>\n"
     ]
    },
    {
     "ename": "KeyError",
     "evalue": "'_oh'",
     "output_type": "error",
     "traceback": [
      "\u001b[0;31m---------------------------------------------------------------------------\u001b[0m",
      "\u001b[0;31mKeyError\u001b[0m                                  Traceback (most recent call last)",
      "\u001b[0;32m<ipython-input-44-f58567fb2497>\u001b[0m in \u001b[0;36m<module>\u001b[0;34m()\u001b[0m\n\u001b[1;32m      3\u001b[0m \u001b[0md1\u001b[0m \u001b[0;34m=\u001b[0m \u001b[0;34m{\u001b[0m\u001b[0mx\u001b[0m \u001b[0;32mfor\u001b[0m \u001b[0mx\u001b[0m \u001b[0;32min\u001b[0m \u001b[0mrange\u001b[0m\u001b[0;34m(\u001b[0m\u001b[0;36m1\u001b[0m\u001b[0;34m,\u001b[0m\u001b[0;36m4\u001b[0m\u001b[0;34m)\u001b[0m\u001b[0;34m}\u001b[0m \u001b[0;31m# set comprehension\u001b[0m\u001b[0;34m\u001b[0m\u001b[0m\n\u001b[1;32m      4\u001b[0m \u001b[0mprint\u001b[0m \u001b[0;34m(\u001b[0m\u001b[0mtype\u001b[0m\u001b[0;34m(\u001b[0m\u001b[0md1\u001b[0m\u001b[0;34m)\u001b[0m\u001b[0;34m)\u001b[0m\u001b[0;34m\u001b[0m\u001b[0m\n\u001b[0;32m----> 5\u001b[0;31m \u001b[0m__builtins__\u001b[0m\u001b[0;34m\u001b[0m\u001b[0m\n\u001b[0m",
      "\u001b[0;32m/usr/lib/python3.4/site-packages/IPython/core/displayhook.py\u001b[0m in \u001b[0;36m__call__\u001b[0;34m(self, result)\u001b[0m\n\u001b[1;32m    245\u001b[0m             \u001b[0mself\u001b[0m\u001b[0;34m.\u001b[0m\u001b[0mwrite_output_prompt\u001b[0m\u001b[0;34m(\u001b[0m\u001b[0;34m)\u001b[0m\u001b[0;34m\u001b[0m\u001b[0m\n\u001b[1;32m    246\u001b[0m             \u001b[0mformat_dict\u001b[0m\u001b[0;34m,\u001b[0m \u001b[0mmd_dict\u001b[0m \u001b[0;34m=\u001b[0m \u001b[0mself\u001b[0m\u001b[0;34m.\u001b[0m\u001b[0mcompute_format_data\u001b[0m\u001b[0;34m(\u001b[0m\u001b[0mresult\u001b[0m\u001b[0;34m)\u001b[0m\u001b[0;34m\u001b[0m\u001b[0m\n\u001b[0;32m--> 247\u001b[0;31m             \u001b[0mself\u001b[0m\u001b[0;34m.\u001b[0m\u001b[0mupdate_user_ns\u001b[0m\u001b[0;34m(\u001b[0m\u001b[0mresult\u001b[0m\u001b[0;34m)\u001b[0m\u001b[0;34m\u001b[0m\u001b[0m\n\u001b[0m\u001b[1;32m    248\u001b[0m             \u001b[0mself\u001b[0m\u001b[0;34m.\u001b[0m\u001b[0mfill_exec_result\u001b[0m\u001b[0;34m(\u001b[0m\u001b[0mresult\u001b[0m\u001b[0;34m)\u001b[0m\u001b[0;34m\u001b[0m\u001b[0m\n\u001b[1;32m    249\u001b[0m             \u001b[0;32mif\u001b[0m \u001b[0mformat_dict\u001b[0m\u001b[0;34m:\u001b[0m\u001b[0;34m\u001b[0m\u001b[0m\n",
      "\u001b[0;32m/usr/lib/python3.4/site-packages/IPython/core/displayhook.py\u001b[0m in \u001b[0;36mupdate_user_ns\u001b[0;34m(self, result)\u001b[0m\n\u001b[1;32m    193\u001b[0m \u001b[0;34m\u001b[0m\u001b[0m\n\u001b[1;32m    194\u001b[0m         \u001b[0;31m# Avoid recursive reference when displaying _oh/Out\u001b[0m\u001b[0;34m\u001b[0m\u001b[0;34m\u001b[0m\u001b[0m\n\u001b[0;32m--> 195\u001b[0;31m         \u001b[0;32mif\u001b[0m \u001b[0mresult\u001b[0m \u001b[0;32mis\u001b[0m \u001b[0;32mnot\u001b[0m \u001b[0mself\u001b[0m\u001b[0;34m.\u001b[0m\u001b[0mshell\u001b[0m\u001b[0;34m.\u001b[0m\u001b[0muser_ns\u001b[0m\u001b[0;34m[\u001b[0m\u001b[0;34m'_oh'\u001b[0m\u001b[0;34m]\u001b[0m\u001b[0;34m:\u001b[0m\u001b[0;34m\u001b[0m\u001b[0m\n\u001b[0m\u001b[1;32m    196\u001b[0m             \u001b[0;32mif\u001b[0m \u001b[0mlen\u001b[0m\u001b[0;34m(\u001b[0m\u001b[0mself\u001b[0m\u001b[0;34m.\u001b[0m\u001b[0mshell\u001b[0m\u001b[0;34m.\u001b[0m\u001b[0muser_ns\u001b[0m\u001b[0;34m[\u001b[0m\u001b[0;34m'_oh'\u001b[0m\u001b[0;34m]\u001b[0m\u001b[0;34m)\u001b[0m \u001b[0;34m>=\u001b[0m \u001b[0mself\u001b[0m\u001b[0;34m.\u001b[0m\u001b[0mcache_size\u001b[0m \u001b[0;32mand\u001b[0m \u001b[0mself\u001b[0m\u001b[0;34m.\u001b[0m\u001b[0mdo_full_cache\u001b[0m\u001b[0;34m:\u001b[0m\u001b[0;34m\u001b[0m\u001b[0m\n\u001b[1;32m    197\u001b[0m                 \u001b[0mself\u001b[0m\u001b[0;34m.\u001b[0m\u001b[0mcull_cache\u001b[0m\u001b[0;34m(\u001b[0m\u001b[0;34m)\u001b[0m\u001b[0;34m\u001b[0m\u001b[0m\n",
      "\u001b[0;31mKeyError\u001b[0m: '_oh'"
     ]
    }
   ],
   "source": [
    "d = {x:x for x in range(1,4)} # dict comprehensiion\n",
    "print (d)\n",
    "d1 = {x for x in range(1,4)} # set comprehension\n",
    "print (type(d1))\n",
    "__builtins__"
   ]
  },
  {
   "cell_type": "code",
   "execution_count": 50,
   "metadata": {
    "collapsed": false
   },
   "outputs": [
    {
     "name": "stdout",
     "output_type": "stream",
     "text": [
      "{'round': <built-in function round>, 'oct': <built-in function oct>, '__debug__': True, 'sorted': <built-in function sorted>, '__build_class__': <built-in function __build_class__>, 'chr': <built-in function chr>, 'ConnectionRefusedError': <class 'ConnectionRefusedError'>, 'bytearray': <class 'bytearray'>, 'OverflowError': <class 'OverflowError'>, 'Exception': <class 'Exception'>, 'setattr': <built-in function setattr>, 'license': See https://www.python.org/psf/license/, 'dreload': <function _dreload at 0x7f32ec9f5e18>, 'None': None, 'UnicodeTranslateError': <class 'UnicodeTranslateError'>, '__name__': 'builtins', 'list': <class 'list'>, 'repr': <built-in function repr>, 'dir': <built-in function dir>, '__IPYTHON__': True, 'exec': <built-in function exec>, 'zip': <class 'zip'>, 'MemoryError': <class 'MemoryError'>, 'ImportError': <class 'ImportError'>, 'frozenset': <class 'frozenset'>, 'UnicodeError': <class 'UnicodeError'>, 'ChildProcessError': <class 'ChildProcessError'>, 'iter': <built-in function iter>, 'super': <class 'super'>, 'ArithmeticError': <class 'ArithmeticError'>, 'max': <built-in function max>, 'BaseException': <class 'BaseException'>, 'tuple': <class 'tuple'>, 'UserWarning': <class 'UserWarning'>, 'property': <class 'property'>, 'staticmethod': <class 'staticmethod'>, 'FloatingPointError': <class 'FloatingPointError'>, 'memoryview': <class 'memoryview'>, 'IOError': <class 'OSError'>, 'AttributeError': <class 'AttributeError'>, 'filter': <class 'filter'>, 'ValueError': <class 'ValueError'>, '__spec__': ModuleSpec(name='builtins', loader=<class '_frozen_importlib.BuiltinImporter'>), 'ascii': <built-in function ascii>, 'id': <built-in function id>, 'TimeoutError': <class 'TimeoutError'>, 'EOFError': <class 'EOFError'>, 'credits':     Thanks to CWI, CNRI, BeOpen.com, Zope Corporation and a cast of thousands\n",
      "    for supporting Python development.  See www.python.org for more information., 'StopIteration': <class 'StopIteration'>, 'True': True, 'range': <class 'range'>, 'hash': <built-in function hash>, 'IndexError': <class 'IndexError'>, 'slice': <class 'slice'>, 'UnicodeEncodeError': <class 'UnicodeEncodeError'>, 'delattr': <built-in function delattr>, 'SyntaxWarning': <class 'SyntaxWarning'>, 'dict': <class 'dict'>, 'len': <built-in function len>, 'BrokenPipeError': <class 'BrokenPipeError'>, 'float': <class 'float'>, 'object': <class 'object'>, 'format': <built-in function format>, 'input': <bound method IPythonKernel.raw_input of <ipykernel.ipkernel.IPythonKernel object at 0x7f32efa7a748>>, 'IndentationError': <class 'IndentationError'>, 'globals': <built-in function globals>, 'divmod': <built-in function divmod>, 'GeneratorExit': <class 'GeneratorExit'>, 'LookupError': <class 'LookupError'>, 'SyntaxError': <class 'SyntaxError'>, 'classmethod': <class 'classmethod'>, 'UnicodeWarning': <class 'UnicodeWarning'>, 'min': <built-in function min>, 'set': <class 'set'>, '__package__': '', '__import__': <built-in function __import__>, 'False': False, 'enumerate': <class 'enumerate'>, 'bool': <class 'bool'>, 'NotImplementedError': <class 'NotImplementedError'>, 'ProcessLookupError': <class 'ProcessLookupError'>, 'RuntimeError': <class 'RuntimeError'>, 'open': <built-in function open>, 'all': <built-in function all>, 'NotADirectoryError': <class 'NotADirectoryError'>, 'bytes': <class 'bytes'>, 'SystemError': <class 'SystemError'>, 'KeyError': <class 'KeyError'>, 'print': <built-in function print>, 'int': <class 'int'>, 'locals': <built-in function locals>, 'pow': <built-in function pow>, 'DeprecationWarning': <class 'DeprecationWarning'>, 'IsADirectoryError': <class 'IsADirectoryError'>, 'ZeroDivisionError': <class 'ZeroDivisionError'>, 'any': <built-in function any>, 'hex': <built-in function hex>, 'complex': <class 'complex'>, 'OSError': <class 'OSError'>, '__loader__': <class '_frozen_importlib.BuiltinImporter'>, 'copyright': Copyright (c) 2001-2015 Python Software Foundation.\n",
      "All Rights Reserved.\n",
      "\n",
      "Copyright (c) 2000 BeOpen.com.\n",
      "All Rights Reserved.\n",
      "\n",
      "Copyright (c) 1995-2001 Corporation for National Research Initiatives.\n",
      "All Rights Reserved.\n",
      "\n",
      "Copyright (c) 1991-1995 Stichting Mathematisch Centrum, Amsterdam.\n",
      "All Rights Reserved., 'NotImplemented': NotImplemented, 'compile': <built-in function compile>, 'BlockingIOError': <class 'BlockingIOError'>, 'hasattr': <built-in function hasattr>, 'ConnectionError': <class 'ConnectionError'>, 'KeyboardInterrupt': <class 'KeyboardInterrupt'>, 'ReferenceError': <class 'ReferenceError'>, 'ord': <built-in function ord>, 'sum': <built-in function sum>, 'reversed': <class 'reversed'>, 'Ellipsis': Ellipsis, 'AssertionError': <class 'AssertionError'>, '__doc__': \"Built-in functions, exceptions, and other objects.\\n\\nNoteworthy: None is the `nil' object; Ellipsis represents `...' in slices.\", 'BytesWarning': <class 'BytesWarning'>, 'Warning': <class 'Warning'>, 'str': <class 'str'>, 'FileExistsError': <class 'FileExistsError'>, 'get_ipython': <bound method ZMQInteractiveShell.get_ipython of <ipykernel.zmqshell.ZMQInteractiveShell object at 0x7f32efa7afd0>>, 'BufferError': <class 'BufferError'>, 'FileNotFoundError': <class 'FileNotFoundError'>, 'PendingDeprecationWarning': <class 'PendingDeprecationWarning'>, 'RuntimeWarning': <class 'RuntimeWarning'>, 'InterruptedError': <class 'InterruptedError'>, 'vars': <built-in function vars>, 'ConnectionResetError': <class 'ConnectionResetError'>, 'issubclass': <built-in function issubclass>, 'type': <class 'type'>, 'PermissionError': <class 'PermissionError'>, 'map': <class 'map'>, 'isinstance': <built-in function isinstance>, 'TypeError': <class 'TypeError'>, 'UnboundLocalError': <class 'UnboundLocalError'>, 'FutureWarning': <class 'FutureWarning'>, 'ConnectionAbortedError': <class 'ConnectionAbortedError'>, 'help': Type help() for interactive help, or help(object) for help about object., 'UnicodeDecodeError': <class 'UnicodeDecodeError'>, 'bin': <built-in function bin>, 'getattr': <built-in function getattr>, 'SystemExit': <class 'SystemExit'>, 'next': <built-in function next>, 'abs': <built-in function abs>, 'callable': <built-in function callable>, 'NameError': <class 'NameError'>, 'EnvironmentError': <class 'OSError'>, 'ResourceWarning': <class 'ResourceWarning'>, 'eval': <built-in function eval>, 'ImportWarning': <class 'ImportWarning'>, 'TabError': <class 'TabError'>}\n"
     ]
    }
   ],
   "source": [
    "print (__builtins__)"
   ]
  },
  {
   "cell_type": "code",
   "execution_count": 51,
   "metadata": {
    "collapsed": false
   },
   "outputs": [
    {
     "name": "stdout",
     "output_type": "stream",
     "text": [
      "['__class__', '__contains__', '__delattr__', '__delitem__', '__dir__', '__doc__', '__eq__', '__format__', '__ge__', '__getattribute__', '__getitem__', '__gt__', '__hash__', '__init__', '__iter__', '__le__', '__len__', '__lt__', '__ne__', '__new__', '__reduce__', '__reduce_ex__', '__repr__', '__setattr__', '__setitem__', '__sizeof__', '__str__', '__subclasshook__', 'clear', 'copy', 'fromkeys', 'get', 'items', 'keys', 'pop', 'popitem', 'setdefault', 'update', 'values']\n"
     ]
    }
   ],
   "source": [
    "print (dir(__builtins__))"
   ]
  },
  {
   "cell_type": "code",
   "execution_count": 55,
   "metadata": {
    "collapsed": false
   },
   "outputs": [
    {
     "name": "stdout",
     "output_type": "stream",
     "text": [
      "['__all__', '__builtins__', '__cached__', '__doc__', '__file__', '__loader__', '__name__', '__package__', '__spec__', 'iskeyword', 'kwlist', 'main']\n",
      "['False', 'None', 'True', 'and', 'as', 'assert', 'break', 'class', 'continue', 'def', 'del', 'elif', 'else', 'except', 'finally', 'for', 'from', 'global', 'if', 'import', 'in', 'is', 'lambda', 'nonlocal', 'not', 'or', 'pass', 'raise', 'return', 'try', 'while', 'with', 'yield']\n",
      "True\n"
     ]
    }
   ],
   "source": [
    "import keyword\n",
    "\n",
    "print(dir(keyword))\n",
    "print(keyword.kwlist)\n",
    "print(keyword.iskeyword(\"and\"))"
   ]
  },
  {
   "cell_type": "code",
   "execution_count": 58,
   "metadata": {
    "collapsed": false
   },
   "outputs": [
    {
     "name": "stdout",
     "output_type": "stream",
     "text": [
      "['CO_FUTURE_ABSOLUTE_IMPORT', 'CO_FUTURE_BARRY_AS_BDFL', 'CO_FUTURE_DIVISION', 'CO_FUTURE_PRINT_FUNCTION', 'CO_FUTURE_UNICODE_LITERALS', 'CO_FUTURE_WITH_STATEMENT', 'CO_GENERATOR_ALLOWED', 'CO_NESTED', '_Feature', '__all__', '__builtins__', '__cached__', '__doc__', '__file__', '__loader__', '__name__', '__package__', '__spec__', 'absolute_import', 'all_feature_names', 'barry_as_FLUFL', 'division', 'generators', 'nested_scopes', 'print_function', 'unicode_literals', 'with_statement']\n"
     ]
    }
   ],
   "source": [
    "import __future__ \n",
    "print (dir(__future__))"
   ]
  },
  {
   "cell_type": "code",
   "execution_count": 62,
   "metadata": {
    "collapsed": false
   },
   "outputs": [
    {
     "name": "stdout",
     "output_type": "stream",
     "text": [
      "<class 'int'>\n",
      "<class 'type'>\n",
      "<class 'int'>\n",
      "<class 'type'>\n"
     ]
    }
   ],
   "source": [
    "print((1).__class__)\n",
    "print((1).__class__.__class__)\n",
    "\n",
    "print (type(1))\n",
    "print (type(type(1)))"
   ]
  },
  {
   "cell_type": "code",
   "execution_count": 80,
   "metadata": {
    "collapsed": false
   },
   "outputs": [
    {
     "name": "stdout",
     "output_type": "stream",
     "text": [
      "self 139856686055208\n",
      "{'name': 'Jerry'}\n",
      "p id 139856686055208\n"
     ]
    }
   ],
   "source": [
    "def __init__(this, name): # 생성자 처리\n",
    "    print(\"self\", id(this)) # self 는 자기 자신을 의미한다.\n",
    "    this.name = name\n",
    "\n",
    "Person = type ('Person',(object,), {\"__init__\":__init__})\n",
    "\n",
    "p= Person(\"Jerry\")\n",
    "print (p.__dict__)\n",
    "print (\"p id\", id(p))"
   ]
  },
  {
   "cell_type": "code",
   "execution_count": 87,
   "metadata": {
    "collapsed": false
   },
   "outputs": [
    {
     "name": "stdout",
     "output_type": "stream",
     "text": [
      "['__all__', '__builtins__', '__cached__', '__doc__', '__file__', '__loader__', '__name__', '__package__', '__spec__', '_get_sep', '_joinrealpath', '_varprog', '_varprogb', 'abspath', 'altsep', 'basename', 'commonprefix', 'curdir', 'defpath', 'devnull', 'dirname', 'exists', 'expanduser', 'expandvars', 'extsep', 'genericpath', 'getatime', 'getctime', 'getmtime', 'getsize', 'isabs', 'isdir', 'isfile', 'islink', 'ismount', 'join', 'lexists', 'normcase', 'normpath', 'os', 'pardir', 'pathsep', 'realpath', 'relpath', 'samefile', 'sameopenfile', 'samestat', 'sep', 'split', 'splitdrive', 'splitext', 'stat', 'supports_unicode_filenames', 'sys']\n",
      "Help on function normcase in module posixpath:\n",
      "\n",
      "normcase(s)\n",
      "    Normalize case of pathname.  Has no effect under Posix\n",
      "\n"
     ]
    }
   ],
   "source": [
    "# self 는 관행상 사용한다.\n",
    "import os\n",
    "print(dir(os.path))\n",
    "help(os.path.normcase)"
   ]
  }
 ],
 "metadata": {
  "kernelspec": {
   "display_name": "Python 3",
   "language": "python",
   "name": "python3"
  },
  "language_info": {
   "codemirror_mode": {
    "name": "ipython",
    "version": 3
   },
   "file_extension": ".py",
   "mimetype": "text/x-python",
   "name": "python",
   "nbconvert_exporter": "python",
   "pygments_lexer": "ipython3",
   "version": "3.4.3"
  }
 },
 "nbformat": 4,
 "nbformat_minor": 0
}
